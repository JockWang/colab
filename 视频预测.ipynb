{
  "nbformat": 4,
  "nbformat_minor": 0,
  "metadata": {
    "colab": {
      "name": "视频预测",
      "provenance": [],
      "collapsed_sections": [],
      "toc_visible": true,
      "machine_shape": "hm",
      "include_colab_link": true
    },
    "kernelspec": {
      "name": "python3",
      "display_name": "Python 3"
    },
    "accelerator": "GPU"
  },
  "cells": [
    {
      "cell_type": "markdown",
      "metadata": {
        "id": "view-in-github",
        "colab_type": "text"
      },
      "source": [
        "<a href=\"https://colab.research.google.com/github/JockWang/colab/blob/master/%E8%A7%86%E9%A2%91%E9%A2%84%E6%B5%8B.ipynb\" target=\"_parent\"><img src=\"https://colab.research.google.com/assets/colab-badge.svg\" alt=\"Open In Colab\"/></a>"
      ]
    },
    {
      "cell_type": "code",
      "metadata": {
        "id": "zIzUhLFnfvjT",
        "colab_type": "code",
        "outputId": "39c5362e-6e83-4c9f-a3ff-26ac44ecadb5",
        "colab": {
          "base_uri": "https://localhost:8080/",
          "height": 35
        }
      },
      "source": [
        "from google.colab import drive\n",
        "drive.mount('/content/drive')"
      ],
      "execution_count": 0,
      "outputs": [
        {
          "output_type": "stream",
          "text": [
            "Drive already mounted at /content/drive; to attempt to forcibly remount, call drive.mount(\"/content/drive\", force_remount=True).\n"
          ],
          "name": "stdout"
        }
      ]
    },
    {
      "cell_type": "code",
      "metadata": {
        "id": "seXmDFgSm16F",
        "colab_type": "code",
        "outputId": "38d4ae25-74b0-49db-9b35-a6adc0b6f0c0",
        "colab": {
          "base_uri": "https://localhost:8080/",
          "height": 307
        }
      },
      "source": [
        "!pip install catboost"
      ],
      "execution_count": 0,
      "outputs": [
        {
          "output_type": "stream",
          "text": [
            "Requirement already satisfied: catboost in /usr/local/lib/python3.6/dist-packages (0.20)\n",
            "Requirement already satisfied: numpy>=1.16.0 in /usr/local/lib/python3.6/dist-packages (from catboost) (1.17.4)\n",
            "Requirement already satisfied: six in /usr/local/lib/python3.6/dist-packages (from catboost) (1.12.0)\n",
            "Requirement already satisfied: pandas>=0.24.0 in /usr/local/lib/python3.6/dist-packages (from catboost) (0.25.3)\n",
            "Requirement already satisfied: matplotlib in /usr/local/lib/python3.6/dist-packages (from catboost) (3.1.2)\n",
            "Requirement already satisfied: scipy in /usr/local/lib/python3.6/dist-packages (from catboost) (1.3.3)\n",
            "Requirement already satisfied: plotly in /usr/local/lib/python3.6/dist-packages (from catboost) (4.1.1)\n",
            "Requirement already satisfied: graphviz in /usr/local/lib/python3.6/dist-packages (from catboost) (0.10.1)\n",
            "Requirement already satisfied: pytz>=2017.2 in /usr/local/lib/python3.6/dist-packages (from pandas>=0.24.0->catboost) (2018.9)\n",
            "Requirement already satisfied: python-dateutil>=2.6.1 in /usr/local/lib/python3.6/dist-packages (from pandas>=0.24.0->catboost) (2.6.1)\n",
            "Requirement already satisfied: pyparsing!=2.0.4,!=2.1.2,!=2.1.6,>=2.0.1 in /usr/local/lib/python3.6/dist-packages (from matplotlib->catboost) (2.4.5)\n",
            "Requirement already satisfied: cycler>=0.10 in /usr/local/lib/python3.6/dist-packages (from matplotlib->catboost) (0.10.0)\n",
            "Requirement already satisfied: kiwisolver>=1.0.1 in /usr/local/lib/python3.6/dist-packages (from matplotlib->catboost) (1.1.0)\n",
            "Requirement already satisfied: retrying>=1.3.3 in /usr/local/lib/python3.6/dist-packages (from plotly->catboost) (1.3.3)\n",
            "Requirement already satisfied: setuptools in /usr/local/lib/python3.6/dist-packages (from kiwisolver>=1.0.1->matplotlib->catboost) (42.0.1)\n"
          ],
          "name": "stdout"
        }
      ]
    },
    {
      "cell_type": "code",
      "metadata": {
        "id": "dcYXJphnfjVc",
        "colab_type": "code",
        "colab": {}
      },
      "source": [
        "import numpy as np\n",
        "import pandas as pd\n",
        "from datetime import datetime\n",
        "import matplotlib.pyplot as plt\n",
        "import time\n",
        "import lightgbm as lgb\n",
        "import catboost as cat\n",
        "from sklearn.preprocessing import LabelEncoder\n",
        "from sklearn.metrics import f1_score,roc_auc_score\n",
        "from sklearn.model_selection import train_test_split,StratifiedKFold"
      ],
      "execution_count": 0,
      "outputs": []
    },
    {
      "cell_type": "markdown",
      "metadata": {
        "id": "IURDJQqQg7kJ",
        "colab_type": "text"
      },
      "source": [
        "#### 加载数据及简单分析"
      ]
    },
    {
      "cell_type": "code",
      "metadata": {
        "id": "O8Gq7O1wgZYJ",
        "colab_type": "code",
        "colab": {}
      },
      "source": [
        "app_data = pd.read_csv('/content/drive/My Drive/比赛/Video/app.csv')\n",
        "train_data = pd.read_csv('/content/drive/My Drive/比赛/Video/train.csv')\n",
        "test_data = pd.read_csv('/content/drive/My Drive/比赛/Video/test.csv')\n",
        "user_data = pd.read_csv('/content/drive/My Drive/比赛/Video/user.csv')"
      ],
      "execution_count": 0,
      "outputs": []
    },
    {
      "cell_type": "code",
      "metadata": {
        "id": "8fssOuYmlfjV",
        "colab_type": "code",
        "colab": {}
      },
      "source": [
        " def reduce_mem_usage(df, verbose=True):\n",
        "  numerics = ['int16', 'int32', 'int64', 'float16', 'float32', 'float64']\n",
        "  start_mem = df.memory_usage().sum() / 1024**2\n",
        "  for col in df.columns:\n",
        "    col_type = df[col].dtypes\n",
        "    if col_type in numerics:\n",
        "      c_min = df[col].min()\n",
        "      c_max = df[col].max()\n",
        "      if str(col_type)[:3] == 'int':\n",
        "        if c_min > np.iinfo(np.int8).min and c_max < np.iinfo(np.int8).max:\n",
        "          df[col] = df[col].astype(np.int8)\n",
        "        elif c_min > np.iinfo(np.int16).min and c_max < np.iinfo(np.int16).max:\n",
        "          df[col] = df[col].astype(np.int16)\n",
        "        elif c_min > np.iinfo(np.int32).min and c_max < np.iinfo(np.int32).max:\n",
        "          df[col] = df[col].astype(np.int32)\n",
        "        elif c_min > np.iinfo(np.int64).min and c_max < np.iinfo(np.int64).max:\n",
        "          df[col] = df[col].astype(np.int64)\n",
        "      else:\n",
        "        if c_min > np.finfo(np.float16).min and c_max < np.finfo(np.float16).max:\n",
        "          df[col] = df[col].astype(np.float16)\n",
        "        elif c_min > np.finfo(np.float32).min and c_max < np.finfo(np.float32).max:\n",
        "          df[col] = df[col].astype(np.float32)\n",
        "        else:\n",
        "          df[col] = df[col].astype(np.float64)\n",
        "  end_mem = df.memory_usage().sum() / 1024**2\n",
        "  if verbose: print('Mem. usage decreased to {:5.2f} Mb ({:.1f}% reduction)'.format(end_mem, 100 * (start_mem - end_mem) / start_mem))\n",
        "  return df"
      ],
      "execution_count": 0,
      "outputs": []
    },
    {
      "cell_type": "code",
      "metadata": {
        "id": "FIoS8wy_l0TF",
        "colab_type": "code",
        "outputId": "462c18d4-f910-4187-8c83-abedb40d07dc",
        "colab": {
          "base_uri": "https://localhost:8080/",
          "height": 89
        }
      },
      "source": [
        "app_data = reduce_mem_usage(app_data)\n",
        "train_data = reduce_mem_usage(train_data)\n",
        "test_data = reduce_mem_usage(test_data)\n",
        "user_data = reduce_mem_usage(user_data)"
      ],
      "execution_count": 0,
      "outputs": [
        {
          "output_type": "stream",
          "text": [
            "Mem. usage decreased to  2.46 Mb (0.0% reduction)\n",
            "Mem. usage decreased to 933.07 Mb (28.3% reduction)\n",
            "Mem. usage decreased to 296.17 Mb (18.3% reduction)\n",
            "Mem. usage decreased to  5.15 Mb (41.7% reduction)\n"
          ],
          "name": "stdout"
        }
      ]
    },
    {
      "cell_type": "code",
      "metadata": {
        "id": "5ikX2liDkchF",
        "colab_type": "code",
        "colab": {}
      },
      "source": [
        "app_data.to_pickle('/content/drive/My Drive/比赛/Video/app.pkl')\n",
        "train_data.to_pickle('/content/drive/My Drive/比赛/Video/train.pkl')\n",
        "test_data.to_pickle('/content/drive/My Drive/比赛/Video/test.pkl')\n",
        "user_data.to_pickle('/content/drive/My Drive/比赛/Video/user.pkl')"
      ],
      "execution_count": 0,
      "outputs": []
    },
    {
      "cell_type": "markdown",
      "metadata": {
        "id": "ttpkPVgs9vJM",
        "colab_type": "text"
      },
      "source": [
        "##### 日期信息处理"
      ]
    },
    {
      "cell_type": "code",
      "metadata": {
        "id": "DxGBHkT74gol",
        "colab_type": "code",
        "colab": {}
      },
      "source": [
        "def twosplit(x):\n",
        "  if x >= 6 and x < 18:\n",
        "    return 1\n",
        "  else:\n",
        "    return 0\n",
        "def foursplit(x):\n",
        "  if x >= 0 and x < 6:\n",
        "    return 0\n",
        "  elif x >= 6 and x < 12:\n",
        "    return 1\n",
        "  elif x >= 12 and x < 18:\n",
        "    return 2\n",
        "  elif x >= 18:\n",
        "    return 3\n",
        "def eightsplit(x):\n",
        "  if x >= 0 and x < 3:\n",
        "    return 0\n",
        "  elif x >= 3 and x < 6:\n",
        "    return 1\n",
        "  elif x >= 6 and x < 9:\n",
        "    return 2\n",
        "  elif x >= 9 and x < 12:\n",
        "    return 3\n",
        "  elif x >= 12 and x < 15:\n",
        "    return 4\n",
        "  elif x >= 15 and x < 18:\n",
        "    return 5\n",
        "  elif x >= 18 and x < 21:\n",
        "    return 6\n",
        "  elif x >= 21:\n",
        "    return 7\n",
        "def dealVendor(x):\n",
        "  x = x.lower()\n",
        "  vendor = {'4g ':'4g','4g  ':'4g','oysin x5':'oysin','x-apple':'apple','iphone':'apple'}\n",
        "  limit = ['vivo','oppo','huawei','honor','xiaomi','meizu','samsung','gionee','apple']\n",
        "  if x in vendor:\n",
        "    x = vendor[x]\n",
        "    if x not in limit:\n",
        "      return 'other'\n",
        "    else:\n",
        "      return x\n",
        "  else:\n",
        "    if x not in limit:\n",
        "      return 'other'\n",
        "    else:\n",
        "      return x\n",
        "def cleanAPP(x):\n",
        "  x = x.replace('[','').replace(']','')[:-1]\n",
        "  return set(x.split(' '))\n",
        "def getMean(x):\n",
        "  temp = 0\n",
        "  for i in x:\n",
        "    temp += i\n",
        "  return temp/len(x)\n",
        "def getTotal(x):\n",
        "  temp = 0\n",
        "  for i in x:\n",
        "    temp += i\n",
        "  return temp\n",
        "def getTagRat(a,b):\n",
        "  temp = []\n",
        "  for i in range(len(a)):\n",
        "    if len(a[i]) == 0 or len(b[i]) == 0:\n",
        "      temp.append(0)\n",
        "    else:\n",
        "      temp.append((len(a[i]+b[i]) - len(set(a[i]+b[i])))/len(a[i]))\n",
        "  return temp"
      ],
      "execution_count": 0,
      "outputs": []
    },
    {
      "cell_type": "markdown",
      "metadata": {
        "id": "Me4_qWZECYde",
        "colab_type": "text"
      },
      "source": [
        "#### APP信息"
      ]
    },
    {
      "cell_type": "code",
      "metadata": {
        "id": "CWYlsF0Y21Hl",
        "colab_type": "code",
        "colab": {}
      },
      "source": [
        "app_data = app_data.groupby('deviceid')['applist'].sum().reset_index()\n",
        "app_data['applist'] = app_data['applist'].apply(cleanAPP)\n",
        "app_data['len_applist'] = app_data['applist'].apply(lambda x: 1 if str(x) == 'nan' else len(x))\n",
        "del app_data['applist']"
      ],
      "execution_count": 0,
      "outputs": []
    },
    {
      "cell_type": "code",
      "metadata": {
        "id": "1c8dKW1jyDq7",
        "colab_type": "code",
        "outputId": "5ea80ef0-dc2d-45bf-8aa3-d34766fdb2e6",
        "colab": {
          "base_uri": "https://localhost:8080/",
          "height": 35
        }
      },
      "source": [
        "len(set(app_data['deviceid'])),app_data.shape"
      ],
      "execution_count": 0,
      "outputs": [
        {
          "output_type": "execute_result",
          "data": {
            "text/plain": [
              "(114584, (114584, 2))"
            ]
          },
          "metadata": {
            "tags": []
          },
          "execution_count": 12
        }
      ]
    },
    {
      "cell_type": "markdown",
      "metadata": {
        "id": "5hPrxkZcCfHT",
        "colab_type": "text"
      },
      "source": [
        "#### User信息"
      ]
    },
    {
      "cell_type": "code",
      "metadata": {
        "id": "_0LeBDCe3Fh8",
        "colab_type": "code",
        "colab": {}
      },
      "source": [
        "user_data['gender'] = user_data['gender'].fillna(-1)\n",
        "user_data['gender'] = user_data['gender'] + 1\n",
        "user_data['personalscore'] = user_data['personalscore'].fillna(0)\n",
        "user_data['personidentification'] = user_data['personidentification'].fillna(-1)\n",
        "user_data['personidentification'] = user_data['personidentification'] + 1\n",
        "user_data['level'] = user_data['level'].fillna(0)\n",
        "user_data['followscore'] = user_data['followscore'].fillna(0)\n",
        "\n",
        "user_data['has_tag'] = user_data['tag'].apply(lambda x: 0 if str(x) == 'nan' else 1)\n",
        "user_data['tag_list'] = user_data['tag'].apply(lambda x: [] if str(x) == 'nan' else list(map(lambda y: y.split('_')[0],x.split('|'))))\n",
        "user_data['tag_score'] = user_data['tag'].apply(lambda x: [0] if str(x) == 'nan' else list(map(lambda y: y.split('_cs:')[-1],x.split('|'))))\n",
        "user_data['tag_score'] = user_data['tag_score'].apply(lambda x: list(map(lambda y: 0 if not str(y).replace('.','').isdigit() else float(y),x)))\n",
        "user_data['len_tag'] = user_data['tag_list'].apply(lambda x: len(x))\n",
        "user_data['tag_total'] = user_data['tag_score'].apply(getTotal)\n",
        "user_data['tag_score_max'] = user_data['tag_score'].apply(lambda x: max(x))\n",
        "user_data['tag_score_min'] = user_data['tag_score'].apply(lambda x: min(x))\n",
        "user_data['tag_score_mean'] = user_data['tag_score'].apply(getMean)\n",
        "\n",
        "user_data['has_outertag'] = user_data['outertag'].apply(lambda x: 0 if str(x) == 'nan' else 1)\n",
        "user_data['outertag_list'] = user_data['outertag'].apply(lambda x: [] if str(x) == 'nan' else list(map(lambda y: y.split('_')[0],x.split('|'))))\n",
        "user_data['outertag_score'] = user_data['outertag'].apply(lambda x: [0] if str(x) == 'nan' else list(map(lambda y: y.split('_cs:')[-1],x.split('|'))))\n",
        "user_data['outertag_score'] = user_data['outertag_score'].apply(lambda x: list(map(lambda y: 0 if not str(y).replace('.','').isdigit() else float(y),x)))\n",
        "user_data['len_outertag'] = user_data['outertag_list'].apply(lambda x: len(x))\n",
        "user_data['outertag_total'] = user_data['outertag_score'].apply(getTotal)\n",
        "user_data['outertag_score_max'] = user_data['outertag_score'].apply(lambda x: max(x))\n",
        "user_data['outertag_score_min'] = user_data['outertag_score'].apply(lambda x: min(x))\n",
        "user_data['outertag_score_mean'] = user_data['outertag_score'].apply(getMean)\n",
        "\n",
        "user_data['outertag_tag'] = getTagRat(user_data['outertag_list'].values, user_data['tag_list'].values)\n",
        "user_data['tag_outertag'] = getTagRat(user_data['tag_list'].values, user_data['outertag_list'].values)\n",
        "user_data['has_guid'] = user_data['guid'].apply(lambda x: 0 if str(x) == 'nan' else 1)\n",
        "\n",
        "user_data = user_data.drop(columns=['outertag','tag','tag_list','outertag_list','tag_score','outertag_score'])"
      ],
      "execution_count": 0,
      "outputs": []
    },
    {
      "cell_type": "code",
      "metadata": {
        "id": "cyU22cjsyzx0",
        "colab_type": "code",
        "colab": {}
      },
      "source": [
        "user_data = user_data.groupby('deviceid').max().reset_index()"
      ],
      "execution_count": 0,
      "outputs": []
    },
    {
      "cell_type": "markdown",
      "metadata": {
        "id": "RLYtFJdLCiO8",
        "colab_type": "text"
      },
      "source": [
        "#### 基本信息"
      ]
    },
    {
      "cell_type": "code",
      "metadata": {
        "id": "qQ1-332I4Er9",
        "colab_type": "code",
        "colab": {}
      },
      "source": [
        "def transTime(data):\n",
        "  data['date'] = data['ts'].apply(lambda x: str(datetime.utcfromtimestamp(x//1000)))\n",
        "  data['days'] = data['date'].apply(lambda x: int(x.split(' ')[0].split('-')[-1]))\n",
        "  data['dayofweek'] = data['days'].apply(lambda x: x%7)\n",
        "  data['hour'] = data['date'].apply(lambda x: int(x.split(' ')[1].split(':')[0]))\n",
        "  data['minute'] = data['date'].apply(lambda x: int(x.split(' ')[1].split(':')[-1]))\n",
        "  data['twosplit'] = data['hour'].apply(twosplit)\n",
        "  data['foursplit'] = data['hour'].apply(foursplit)\n",
        "  data['eightsplit'] = data['hour'].apply(eightsplit)\n",
        "  data['guid'] = data['guid'].fillna('loss')\n",
        "  data['flag'] = data['days']\n",
        "  \n",
        "  return data\n",
        "def featureEncoder(data):\n",
        "  data['device_vendor'] = data['device_vendor'].apply(dealVendor)\n",
        "  data['os'] =data['device_vendor'].apply(lambda x: 0 if x != 'apple' else 1)\n",
        "  data['osversion'] = data['osversion'].apply(lambda x: int(x.split('.')[0]))\n",
        "  data['app_big_version'] = data['app_version'].apply(lambda x: int(x.split('.')[0]))\n",
        "  \n",
        "  # 是否有位置信息\n",
        "  data['has_location'] = data['lng'].apply(lambda x: 0 if x == 5e-324 else 1)\n",
        "  # 异常点处理\n",
        "  data['lng'] = data['lng'].apply(lambda x: 0.0 if x == 5e-324 else x)\n",
        "  data['lat'] = data['lat'].apply(lambda x: 0.0 if x == 5e-324 else x)\n",
        "  # 如果按城市划分的话，经纬度精确到个位已经差不多了\n",
        "  data['lng'] = data['lng'].apply(lambda x: int(x))\n",
        "  data['lat'] = data['lat'].apply(lambda x: int(x))\n",
        "  data['location'] = data['lng'].astype(str)+' '+data['lat'].astype(str)\n",
        "  encodecols = ['app_version','app_big_version','device_vendor','netmodel','osversion','device_version','location']\n",
        "  for col in encodecols:\n",
        "    encoder = LabelEncoder().fit(data[col])\n",
        "    data[col] = encoder.transform(data[col])\n",
        "  \n",
        "  return data"
      ],
      "execution_count": 0,
      "outputs": []
    },
    {
      "cell_type": "code",
      "metadata": {
        "id": "ncvAQQXsnQfq",
        "colab_type": "code",
        "colab": {}
      },
      "source": [
        "train_data = transTime(train_data)\n",
        "test_data = transTime(test_data)\n",
        "test_data['flag'] = 11"
      ],
      "execution_count": 0,
      "outputs": []
    },
    {
      "cell_type": "code",
      "metadata": {
        "id": "gVeiODMv1t1M",
        "colab_type": "code",
        "colab": {}
      },
      "source": [
        "data = pd.concat([train_data,test_data],axis=0,sort=False)\n",
        "data = featureEncoder(data)\n",
        "del train_data,test_data"
      ],
      "execution_count": 0,
      "outputs": []
    },
    {
      "cell_type": "code",
      "metadata": {
        "id": "wADts_Xt0qYf",
        "colab_type": "code",
        "colab": {}
      },
      "source": [
        "history_9 = data[data['days']==8]\n",
        "history_10 = data[data['days']==9]\n",
        "history_11 = data[data['days']==10]\n",
        "history_12 = data[data['days']==11]\n",
        "del data"
      ],
      "execution_count": 0,
      "outputs": []
    },
    {
      "cell_type": "code",
      "metadata": {
        "id": "JlszjS_x2FwX",
        "colab_type": "code",
        "colab": {}
      },
      "source": [
        "#喜爱度\n",
        "def get_history_visit_time(data1,date2,features):\n",
        "  data1 = data1.sort_values(['ts','timestamp'])\n",
        "  data1['timestamp_ts'] = data1['timestamp'] - data1['ts']\n",
        "  data1_tmp = data1[data1['target']==1].copy()\n",
        "  del data1\n",
        "  for col in features:\n",
        "    print(col)\n",
        "    for ts in ['timestamp_ts']:\n",
        "      f_tmp = data1_tmp.groupby([col],as_index=False)[ts].agg({\n",
        "          '{}_{}_max'.format(col,ts):'max',\n",
        "          '{}_{}_mean'.format(col,ts):'mean',\n",
        "          '{}_{}_min'.format(col,ts):'min',\n",
        "          '{}_{}_median'.format(col,ts):'median',\n",
        "          '{}_{}_std'.format(col,ts):'std',\n",
        "      })\n",
        "    date2 = pd.merge(date2,f_tmp,on=[col],how='left',copy=False)\n",
        "  return date2"
      ],
      "execution_count": 0,
      "outputs": []
    },
    {
      "cell_type": "code",
      "metadata": {
        "id": "xEKiAtKd6vnE",
        "colab_type": "code",
        "outputId": "ceafc7ed-727a-47de-8b21-37f548a12192",
        "colab": {
          "base_uri": "https://localhost:8080/",
          "height": 287
        }
      },
      "source": [
        "features = ['deviceid','guid','newsid','pos']\n",
        "history_10 = reduce_mem_usage(get_history_visit_time(history_9,history_10,features))\n",
        "history_11 = reduce_mem_usage(get_history_visit_time(history_10,history_11,features))\n",
        "history_12 = reduce_mem_usage(get_history_visit_time(history_11,history_12,features))"
      ],
      "execution_count": 0,
      "outputs": [
        {
          "output_type": "stream",
          "text": [
            "deviceid\n",
            "guid\n",
            "newsid\n",
            "pos\n",
            "Mem. usage decreased to 584.92 Mb (45.8% reduction)\n",
            "deviceid\n",
            "guid\n",
            "newsid\n",
            "pos\n",
            "Mem. usage decreased to 613.44 Mb (45.8% reduction)\n",
            "deviceid\n",
            "guid\n",
            "newsid\n",
            "pos\n",
            "Mem. usage decreased to 491.69 Mb (42.5% reduction)\n"
          ],
          "name": "stdout"
        }
      ]
    },
    {
      "cell_type": "code",
      "metadata": {
        "id": "sH9EBj9q7SWW",
        "colab_type": "code",
        "colab": {}
      },
      "source": [
        "data = pd.concat([history_10,history_11],axis=0,sort=False,ignore_index=True)\n",
        "data = pd.concat([data,history_12],axis=0,sort=False,ignore_index=True)\n",
        "del history_9,history_10,history_11,history_12"
      ],
      "execution_count": 0,
      "outputs": []
    },
    {
      "cell_type": "code",
      "metadata": {
        "id": "VQfN_--L8Kuu",
        "colab_type": "code",
        "outputId": "fe566aeb-e832-4361-9bb0-037f4f9dc079",
        "colab": {
          "base_uri": "https://localhost:8080/",
          "height": 89
        }
      },
      "source": [
        "for col in [['deviceid'],['guid'],['newsid'],['pos']]:\n",
        "  print(col)\n",
        "  data['{}_days_count'.format('_'.join(col))] = data.groupby(['days'] + col)['id'].transform('count')"
      ],
      "execution_count": 0,
      "outputs": [
        {
          "output_type": "stream",
          "text": [
            "['deviceid']\n",
            "['guid']\n",
            "['newsid']\n",
            "['pos']\n"
          ],
          "name": "stdout"
        }
      ]
    },
    {
      "cell_type": "code",
      "metadata": {
        "id": "MDEN3YlxdiiQ",
        "colab_type": "code",
        "outputId": "bdb88983-b26b-42c0-b567-2ec154459e6a",
        "colab": {
          "base_uri": "https://localhost:8080/",
          "height": 35
        }
      },
      "source": [
        "data = pd.merge(data,app_data,on='deviceid',how='left',sort=False)\n",
        "data = pd.merge(data,user_data,on='deviceid',how='left',sort=False)\n",
        "data = reduce_mem_usage(data)\n",
        "del app_data,user_data"
      ],
      "execution_count": 0,
      "outputs": [
        {
          "output_type": "stream",
          "text": [
            "Mem. usage decreased to 2191.72 Mb (35.4% reduction)\n"
          ],
          "name": "stdout"
        }
      ]
    },
    {
      "cell_type": "markdown",
      "metadata": {
        "id": "etkAfLxZmdYA",
        "colab_type": "text"
      },
      "source": [
        "#### 缓存"
      ]
    },
    {
      "cell_type": "code",
      "metadata": {
        "id": "0QEKLC5uu3Za",
        "colab_type": "code",
        "colab": {}
      },
      "source": [
        "data.to_pickle('/content/drive/My Drive/比赛/Video/data.pkl')"
      ],
      "execution_count": 0,
      "outputs": []
    },
    {
      "cell_type": "code",
      "metadata": {
        "id": "jj-N-Z0K5CfP",
        "colab_type": "code",
        "colab": {}
      },
      "source": [
        "data = pd.read_pickle('/content/drive/My Drive/比赛/Video/data.pkl')"
      ],
      "execution_count": 0,
      "outputs": []
    },
    {
      "cell_type": "code",
      "metadata": {
        "id": "EQSn_-y9xLAS",
        "colab_type": "code",
        "outputId": "c27c8514-ec75-46db-dd28-111aa80917d6",
        "colab": {
          "base_uri": "https://localhost:8080/",
          "height": 35
        }
      },
      "source": [
        "data.shape"
      ],
      "execution_count": 0,
      "outputs": [
        {
          "output_type": "execute_result",
          "data": {
            "text/plain": [
              "(10689253, 73)"
            ]
          },
          "metadata": {
            "tags": []
          },
          "execution_count": 36
        }
      ]
    },
    {
      "cell_type": "markdown",
      "metadata": {
        "id": "a3QkhmsasNaS",
        "colab_type": "text"
      },
      "source": [
        "#### 数据集划分"
      ]
    },
    {
      "cell_type": "code",
      "metadata": {
        "id": "Xsvlv0husSxj",
        "colab_type": "code",
        "outputId": "9c7b87a6-2495-4126-dcfe-34a7e32c013f",
        "colab": {
          "base_uri": "https://localhost:8080/",
          "height": 35
        }
      },
      "source": [
        "X_train = data[data['flag'].isin([9])]\n",
        "X_valid = data[data['flag'].isin([10])]\n",
        "X_test = data[data['flag'].isin([11])]\n",
        "X_train.shape,X_valid.shape,X_test.shape"
      ],
      "execution_count": 0,
      "outputs": [
        {
          "output_type": "execute_result",
          "data": {
            "text/plain": [
              "((3762779, 73), (3272882, 73), (3653592, 73))"
            ]
          },
          "metadata": {
            "tags": []
          },
          "execution_count": 37
        }
      ]
    },
    {
      "cell_type": "code",
      "metadata": {
        "id": "3bRzQ3K0bJE8",
        "colab_type": "code",
        "colab": {}
      },
      "source": [
        "# history_10.to_pickle('/content/drive/My Drive/比赛/Video/history_10.pkl')\n",
        "# history_11.to_pickle('/content/drive/My Drive/比赛/Video/history_11.pkl')\n",
        "# history_12.to_pickle('/content/drive/My Drive/比赛/Video/history_12.pkl')"
      ],
      "execution_count": 0,
      "outputs": []
    },
    {
      "cell_type": "code",
      "metadata": {
        "id": "pgbkHAjnFve5",
        "colab_type": "code",
        "outputId": "c2086e54-6f1f-4b2d-b294-32b6367f28bd",
        "colab": {
          "base_uri": "https://localhost:8080/",
          "height": 413
        }
      },
      "source": [
        "#((3762779, 64), (3272882, 64), (3653592, 64))\n",
        "X_train.columns"
      ],
      "execution_count": 0,
      "outputs": [
        {
          "output_type": "execute_result",
          "data": {
            "text/plain": [
              "Index(['id', 'target', 'timestamp', 'deviceid', 'newsid', 'guid', 'pos',\n",
              "       'app_version', 'device_vendor', 'netmodel', 'osversion', 'lng', 'lat',\n",
              "       'device_version', 'ts', 'date', 'days', 'dayofweek', 'hour', 'minute',\n",
              "       'twosplit', 'foursplit', 'eightsplit', 'flag', 'os', 'app_big_version',\n",
              "       'has_location', 'location', 'deviceid_timestamp_ts_max',\n",
              "       'deviceid_timestamp_ts_mean', 'deviceid_timestamp_ts_min',\n",
              "       'deviceid_timestamp_ts_median', 'deviceid_timestamp_ts_std',\n",
              "       'guid_timestamp_ts_max', 'guid_timestamp_ts_mean',\n",
              "       'guid_timestamp_ts_min', 'guid_timestamp_ts_median',\n",
              "       'guid_timestamp_ts_std', 'newsid_timestamp_ts_max',\n",
              "       'newsid_timestamp_ts_mean', 'newsid_timestamp_ts_min',\n",
              "       'newsid_timestamp_ts_median', 'newsid_timestamp_ts_std',\n",
              "       'pos_timestamp_ts_max', 'pos_timestamp_ts_mean', 'pos_timestamp_ts_min',\n",
              "       'pos_timestamp_ts_median', 'pos_timestamp_ts_std',\n",
              "       'deviceid_days_count', 'guid_days_count', 'newsid_days_count',\n",
              "       'pos_days_count', 'len_applist', 'level', 'personidentification',\n",
              "       'followscore', 'personalscore', 'gender', 'has_tag', 'len_tag',\n",
              "       'tag_total', 'tag_score_max', 'tag_score_min', 'tag_score_mean',\n",
              "       'has_outertag', 'len_outertag', 'outertag_total', 'outertag_score_max',\n",
              "       'outertag_score_min', 'outertag_score_mean', 'outertag_tag',\n",
              "       'tag_outertag', 'has_guid'],\n",
              "      dtype='object')"
            ]
          },
          "metadata": {
            "tags": []
          },
          "execution_count": 39
        }
      ]
    },
    {
      "cell_type": "markdown",
      "metadata": {
        "id": "6fPPtFjs5wl0",
        "colab_type": "text"
      },
      "source": [
        "#### 训练模型"
      ]
    },
    {
      "cell_type": "code",
      "metadata": {
        "id": "hdfGRSJ65vwN",
        "colab_type": "code",
        "colab": {}
      },
      "source": [
        "lgb_params = {\n",
        "  'objective': 'binary',\n",
        "  'learning_rate': 0.1,\n",
        "  'num_leaves': 31,\n",
        "  'bagging_fraction': .9,\n",
        "  'feature_fraction': .9,\n",
        "  'lambda_l1': 0.1,\n",
        "  'metric': 'auc',\n",
        "  'seed': 2019,\n",
        "  'max_depth': -1,\n",
        "}\n",
        "def eval_func(y_pred, train_data):\n",
        "  y_true = train_data.get_label()\n",
        "  score = f1_score(y_true, np.round(y_pred))\n",
        "  return 'f1', score, True"
      ],
      "execution_count": 0,
      "outputs": []
    },
    {
      "cell_type": "code",
      "metadata": {
        "id": "pHrpHa42FrZR",
        "colab_type": "code",
        "colab": {}
      },
      "source": [
        "feature = [ col for col in list(X_train.columns) if col not in ['id','target','timestamp','newsid','deviceid','guid','ts_next','ts','date','flag']]\n",
        "target = 'target'\n",
        "cat_features = ['pos','app_version','device_vendor', 'netmodel', 'osversion',\n",
        "         'device_version', 'dayofweek','twosplit', 'foursplit', 'eightsplit',\n",
        "          'os', 'app_big_version', 'has_location', 'location',\n",
        "         'level', 'gender', 'has_tag', 'has_outertag', 'has_guid']"
      ],
      "execution_count": 0,
      "outputs": []
    },
    {
      "cell_type": "code",
      "metadata": {
        "id": "BtPuR7ohGAqV",
        "colab_type": "code",
        "colab": {}
      },
      "source": [
        "lgb_train = lgb.Dataset(X_train[feature].values, X_train[target].values)\n",
        "lgb_valid = lgb.Dataset(X_valid[feature].values, X_valid[target].values, reference=lgb_train)"
      ],
      "execution_count": 0,
      "outputs": []
    },
    {
      "cell_type": "markdown",
      "metadata": {
        "id": "M5tjiKE49HAB",
        "colab_type": "text"
      },
      "source": [
        "##### 验证模型"
      ]
    },
    {
      "cell_type": "code",
      "metadata": {
        "id": "aDtBrQLvUz1g",
        "colab_type": "code",
        "outputId": "1997506d-a01b-4982-f2e3-ffadf81435b1",
        "colab": {
          "base_uri": "https://localhost:8080/",
          "height": 1000
        }
      },
      "source": [
        "lgb_model = lgb.train(lgb_params, lgb_train, num_boost_round=10000, valid_sets=[lgb_train,lgb_valid], early_stopping_rounds=50, verbose_eval=5,)"
      ],
      "execution_count": 0,
      "outputs": [
        {
          "output_type": "stream",
          "text": [
            "Training until validation scores don't improve for 50 rounds.\n",
            "[5]\ttraining's auc: 0.894306\tvalid_1's auc: 0.884244\n",
            "[10]\ttraining's auc: 0.898568\tvalid_1's auc: 0.886389\n",
            "[15]\ttraining's auc: 0.902427\tvalid_1's auc: 0.890897\n",
            "[20]\ttraining's auc: 0.905707\tvalid_1's auc: 0.894406\n",
            "[25]\ttraining's auc: 0.907676\tvalid_1's auc: 0.896311\n",
            "[30]\ttraining's auc: 0.909268\tvalid_1's auc: 0.898116\n",
            "[35]\ttraining's auc: 0.910747\tvalid_1's auc: 0.89958\n",
            "[40]\ttraining's auc: 0.911968\tvalid_1's auc: 0.90058\n",
            "[45]\ttraining's auc: 0.912923\tvalid_1's auc: 0.901417\n",
            "[50]\ttraining's auc: 0.913837\tvalid_1's auc: 0.902075\n",
            "[55]\ttraining's auc: 0.91474\tvalid_1's auc: 0.90261\n",
            "[60]\ttraining's auc: 0.915494\tvalid_1's auc: 0.903048\n",
            "[65]\ttraining's auc: 0.916165\tvalid_1's auc: 0.90347\n",
            "[70]\ttraining's auc: 0.916745\tvalid_1's auc: 0.903779\n",
            "[75]\ttraining's auc: 0.917342\tvalid_1's auc: 0.904106\n",
            "[80]\ttraining's auc: 0.917828\tvalid_1's auc: 0.904372\n",
            "[85]\ttraining's auc: 0.918273\tvalid_1's auc: 0.904559\n",
            "[90]\ttraining's auc: 0.918767\tvalid_1's auc: 0.904716\n",
            "[95]\ttraining's auc: 0.919179\tvalid_1's auc: 0.904923\n",
            "[100]\ttraining's auc: 0.919574\tvalid_1's auc: 0.904999\n",
            "[105]\ttraining's auc: 0.919944\tvalid_1's auc: 0.905159\n",
            "[110]\ttraining's auc: 0.920276\tvalid_1's auc: 0.905285\n",
            "[115]\ttraining's auc: 0.920665\tvalid_1's auc: 0.905345\n",
            "[120]\ttraining's auc: 0.921009\tvalid_1's auc: 0.905435\n",
            "[125]\ttraining's auc: 0.921319\tvalid_1's auc: 0.905601\n",
            "[130]\ttraining's auc: 0.921614\tvalid_1's auc: 0.905618\n",
            "[135]\ttraining's auc: 0.921913\tvalid_1's auc: 0.90571\n",
            "[140]\ttraining's auc: 0.922148\tvalid_1's auc: 0.905898\n",
            "[145]\ttraining's auc: 0.92241\tvalid_1's auc: 0.905944\n",
            "[150]\ttraining's auc: 0.922645\tvalid_1's auc: 0.905914\n",
            "[155]\ttraining's auc: 0.92291\tvalid_1's auc: 0.905957\n",
            "[160]\ttraining's auc: 0.923195\tvalid_1's auc: 0.905945\n",
            "[165]\ttraining's auc: 0.923459\tvalid_1's auc: 0.906057\n",
            "[170]\ttraining's auc: 0.923731\tvalid_1's auc: 0.906137\n",
            "[175]\ttraining's auc: 0.923983\tvalid_1's auc: 0.906221\n",
            "[180]\ttraining's auc: 0.92419\tvalid_1's auc: 0.906232\n",
            "[185]\ttraining's auc: 0.924378\tvalid_1's auc: 0.90627\n",
            "[190]\ttraining's auc: 0.924623\tvalid_1's auc: 0.906331\n",
            "[195]\ttraining's auc: 0.924813\tvalid_1's auc: 0.906382\n",
            "[200]\ttraining's auc: 0.925017\tvalid_1's auc: 0.906424\n",
            "[205]\ttraining's auc: 0.925188\tvalid_1's auc: 0.906426\n",
            "[210]\ttraining's auc: 0.925445\tvalid_1's auc: 0.906407\n",
            "[215]\ttraining's auc: 0.925651\tvalid_1's auc: 0.906512\n",
            "[220]\ttraining's auc: 0.925786\tvalid_1's auc: 0.906486\n",
            "[225]\ttraining's auc: 0.925947\tvalid_1's auc: 0.906489\n",
            "[230]\ttraining's auc: 0.926131\tvalid_1's auc: 0.906531\n",
            "[235]\ttraining's auc: 0.926276\tvalid_1's auc: 0.906562\n",
            "[240]\ttraining's auc: 0.926479\tvalid_1's auc: 0.906592\n",
            "[245]\ttraining's auc: 0.926649\tvalid_1's auc: 0.906603\n",
            "[250]\ttraining's auc: 0.926842\tvalid_1's auc: 0.906627\n",
            "[255]\ttraining's auc: 0.927025\tvalid_1's auc: 0.906665\n",
            "[260]\ttraining's auc: 0.927146\tvalid_1's auc: 0.906686\n",
            "[265]\ttraining's auc: 0.927313\tvalid_1's auc: 0.906738\n",
            "[270]\ttraining's auc: 0.927513\tvalid_1's auc: 0.906786\n",
            "[275]\ttraining's auc: 0.927644\tvalid_1's auc: 0.906832\n",
            "[280]\ttraining's auc: 0.927781\tvalid_1's auc: 0.906828\n",
            "[285]\ttraining's auc: 0.927942\tvalid_1's auc: 0.906863\n",
            "[290]\ttraining's auc: 0.928063\tvalid_1's auc: 0.906852\n",
            "[295]\ttraining's auc: 0.928156\tvalid_1's auc: 0.906884\n",
            "[300]\ttraining's auc: 0.928277\tvalid_1's auc: 0.906688\n",
            "[305]\ttraining's auc: 0.928386\tvalid_1's auc: 0.906689\n",
            "[310]\ttraining's auc: 0.928557\tvalid_1's auc: 0.906717\n",
            "[315]\ttraining's auc: 0.928726\tvalid_1's auc: 0.906712\n",
            "[320]\ttraining's auc: 0.92887\tvalid_1's auc: 0.906693\n",
            "[325]\ttraining's auc: 0.929\tvalid_1's auc: 0.906687\n",
            "[330]\ttraining's auc: 0.929115\tvalid_1's auc: 0.906703\n",
            "[335]\ttraining's auc: 0.929282\tvalid_1's auc: 0.906724\n",
            "Early stopping, best iteration is:\n",
            "[287]\ttraining's auc: 0.927994\tvalid_1's auc: 0.906889\n"
          ],
          "name": "stdout"
        }
      ]
    },
    {
      "cell_type": "code",
      "metadata": {
        "id": "8fSqIuMQgt6A",
        "colab_type": "code",
        "outputId": "46eb78bb-402a-48f4-e4c3-e37eb11576b2",
        "colab": {
          "base_uri": "https://localhost:8080/",
          "height": 35
        }
      },
      "source": [
        "# 227\n",
        "p_test = lgb_model.predict(X_valid[feature].values,num_iteration=lgb_model.best_iteration)\n",
        "xx_score = X_valid[[target]].copy()\n",
        "xx_score['predict'] = p_test\n",
        "xx_score = xx_score.sort_values('predict',ascending=False)\n",
        "xx_score = xx_score.reset_index()\n",
        "xx_score.loc[xx_score.index<=int(xx_score.shape[0]*0.110),'score'] = 1\n",
        "xx_score['score'] = xx_score['score'].fillna(0)\n",
        "print(f1_score(xx_score['target'],xx_score['score']))"
      ],
      "execution_count": 0,
      "outputs": [
        {
          "output_type": "stream",
          "text": [
            "0.5431915347368633\n"
          ],
          "name": "stdout"
        }
      ]
    },
    {
      "cell_type": "code",
      "metadata": {
        "id": "HnjaUjX7Sy8L",
        "colab_type": "code",
        "colab": {}
      },
      "source": [
        "X_train = data[data['flag'].isin([9,10])]\n",
        "# del lgb_train,lgb_valid\n",
        "lgb_train = lgb.Dataset(X_train[feature].values, X_train[target].values)"
      ],
      "execution_count": 0,
      "outputs": []
    },
    {
      "cell_type": "code",
      "metadata": {
        "id": "TFnmapYUhEs-",
        "colab_type": "code",
        "outputId": "61f37568-d73b-4ff4-aaac-08bf69c04e22",
        "colab": {
          "base_uri": "https://localhost:8080/",
          "height": 935
        }
      },
      "source": [
        "lgb_model_2 = lgb.train(lgb_params, lgb_train, num_boost_round=510, valid_sets=[lgb_train],verbose_eval=10)"
      ],
      "execution_count": 0,
      "outputs": [
        {
          "output_type": "stream",
          "text": [
            "[10]\ttraining's auc: 0.895171\n",
            "[20]\ttraining's auc: 0.901581\n",
            "[30]\ttraining's auc: 0.905327\n",
            "[40]\ttraining's auc: 0.90806\n",
            "[50]\ttraining's auc: 0.910022\n",
            "[60]\ttraining's auc: 0.91148\n",
            "[70]\ttraining's auc: 0.912651\n",
            "[80]\ttraining's auc: 0.913603\n",
            "[90]\ttraining's auc: 0.914461\n",
            "[100]\ttraining's auc: 0.91515\n",
            "[110]\ttraining's auc: 0.915785\n",
            "[120]\ttraining's auc: 0.916329\n",
            "[130]\ttraining's auc: 0.916865\n",
            "[140]\ttraining's auc: 0.917345\n",
            "[150]\ttraining's auc: 0.917776\n",
            "[160]\ttraining's auc: 0.918163\n",
            "[170]\ttraining's auc: 0.918515\n",
            "[180]\ttraining's auc: 0.918897\n",
            "[190]\ttraining's auc: 0.919248\n",
            "[200]\ttraining's auc: 0.919629\n",
            "[210]\ttraining's auc: 0.919946\n",
            "[220]\ttraining's auc: 0.920284\n",
            "[230]\ttraining's auc: 0.920585\n",
            "[240]\ttraining's auc: 0.920833\n",
            "[250]\ttraining's auc: 0.921113\n",
            "[260]\ttraining's auc: 0.921413\n",
            "[270]\ttraining's auc: 0.921651\n",
            "[280]\ttraining's auc: 0.921908\n",
            "[290]\ttraining's auc: 0.92212\n",
            "[300]\ttraining's auc: 0.922401\n",
            "[310]\ttraining's auc: 0.922638\n",
            "[320]\ttraining's auc: 0.922893\n",
            "[330]\ttraining's auc: 0.923119\n",
            "[340]\ttraining's auc: 0.923344\n",
            "[350]\ttraining's auc: 0.923531\n",
            "[360]\ttraining's auc: 0.92374\n",
            "[370]\ttraining's auc: 0.923986\n",
            "[380]\ttraining's auc: 0.924181\n",
            "[390]\ttraining's auc: 0.924332\n",
            "[400]\ttraining's auc: 0.924493\n",
            "[410]\ttraining's auc: 0.924599\n",
            "[420]\ttraining's auc: 0.924709\n",
            "[430]\ttraining's auc: 0.924873\n",
            "[440]\ttraining's auc: 0.925063\n",
            "[450]\ttraining's auc: 0.925269\n",
            "[460]\ttraining's auc: 0.925432\n",
            "[470]\ttraining's auc: 0.925647\n",
            "[480]\ttraining's auc: 0.925795\n",
            "[490]\ttraining's auc: 0.92601\n",
            "[500]\ttraining's auc: 0.926182\n",
            "[510]\ttraining's auc: 0.92639\n"
          ],
          "name": "stdout"
        }
      ]
    },
    {
      "cell_type": "code",
      "metadata": {
        "id": "NvFdQNrskTu9",
        "colab_type": "code",
        "colab": {}
      },
      "source": [
        "del X_train,lgb_train"
      ],
      "execution_count": 0,
      "outputs": []
    },
    {
      "cell_type": "code",
      "metadata": {
        "id": "3rHVwZCGkjPV",
        "colab_type": "code",
        "colab": {}
      },
      "source": [
        "p_predict = lgb_model_2.predict(X_test[feature].values)\n",
        "\n",
        "submit_score = X_test[['id']].copy()\n",
        "submit_score['predict'] = p_predict\n",
        "submit_score = submit_score.sort_values('predict',ascending=False)\n",
        "submit_score = submit_score.reset_index()\n",
        "submit_score.loc[submit_score.index<=int(submit_score.shape[0]*0.110),'target'] = 1\n",
        "submit_score['target'] = submit_score['target'].fillna(0)\n",
        "\n",
        "submit_score = submit_score.sort_values('id')\n",
        "submit_score['target'] = submit_score['target'].astype(int)\n",
        "\n",
        "sample = pd.read_csv('/content/drive/My Drive/比赛/Video/sample.csv')\n",
        "sample.columns = ['id','non_target']\n",
        "submit_score = pd.merge(sample,submit_score,on=['id'],how='left')\n",
        "\n",
        "submit_score[['id','target']].to_csv('baseline.csv',index=False)"
      ],
      "execution_count": 0,
      "outputs": []
    },
    {
      "cell_type": "code",
      "metadata": {
        "id": "AmTvSlf5vtGJ",
        "colab_type": "code",
        "outputId": "10a92d10-48de-48fa-c81b-b62275424ef4",
        "colab": {
          "base_uri": "https://localhost:8080/",
          "height": 35
        }
      },
      "source": [
        "submit_score.shape"
      ],
      "execution_count": 0,
      "outputs": [
        {
          "output_type": "execute_result",
          "data": {
            "text/plain": [
              "(3653592, 5)"
            ]
          },
          "metadata": {
            "tags": []
          },
          "execution_count": 42
        }
      ]
    },
    {
      "cell_type": "code",
      "metadata": {
        "id": "mGW9BKsBled9",
        "colab_type": "code",
        "colab": {}
      },
      "source": [
        "X_train = data[data['flag'].isin([9])]\n",
        "X_valid = data[data['flag'].isin([10])]\n",
        "X_test = data[data['flag'].isin([11])]"
      ],
      "execution_count": 0,
      "outputs": []
    },
    {
      "cell_type": "code",
      "metadata": {
        "id": "EKdSZQizlj1M",
        "colab_type": "code",
        "colab": {}
      },
      "source": [
        "eval_set = cat.Pool(data=X_valid.iloc[feature],label=X_valid.iloc[target],cat_features=cat_features)"
      ],
      "execution_count": 0,
      "outputs": []
    },
    {
      "cell_type": "code",
      "metadata": {
        "id": "Vw8fd2Y8nNrN",
        "colab_type": "code",
        "colab": {}
      },
      "source": [
        "model = cat.CatBoostClassifier(iterations=5000, learning_rate=0.1, depth=12, loss_function='Logloss', eval_metric='AUC')"
      ],
      "execution_count": 0,
      "outputs": []
    },
    {
      "cell_type": "code",
      "metadata": {
        "id": "dHbTboXQnsWF",
        "colab_type": "code",
        "outputId": "febf318e-70ae-4392-fa39-f34b819062af",
        "colab": {
          "base_uri": "https://localhost:8080/",
          "height": 503
        }
      },
      "source": [
        "model.fit(X_train[feature],X_train[target],use_best_model=True,eval_set=eval_set,cat_features=cat_features,early_stopping_rounds=50)"
      ],
      "execution_count": 0,
      "outputs": [
        {
          "output_type": "stream",
          "text": [
            "0:\ttest: 0.9018846\tbest: 0.9018846 (0)\ttotal: 24.4s\tremaining: 1d 9h 54m 29s\n",
            "1:\ttest: 0.9059395\tbest: 0.9059395 (1)\ttotal: 47.1s\tremaining: 1d 8h 40m 24s\n",
            "2:\ttest: 0.9086644\tbest: 0.9086644 (2)\ttotal: 1m 8s\tremaining: 1d 7h 36m 50s\n",
            "3:\ttest: 0.9094462\tbest: 0.9094462 (3)\ttotal: 1m 32s\tremaining: 1d 8h 11m 35s\n",
            "4:\ttest: 0.9099553\tbest: 0.9099553 (4)\ttotal: 1m 56s\tremaining: 1d 8h 22m 40s\n",
            "5:\ttest: 0.9111612\tbest: 0.9111612 (5)\ttotal: 2m 18s\tremaining: 1d 8h 3m 40s\n",
            "6:\ttest: 0.9121002\tbest: 0.9121002 (6)\ttotal: 2m 40s\tremaining: 1d 7h 43m 59s\n",
            "7:\ttest: 0.9120915\tbest: 0.9121002 (6)\ttotal: 3m 3s\tremaining: 1d 7h 45m 10s\n",
            "8:\ttest: 0.9126819\tbest: 0.9126819 (8)\ttotal: 3m 24s\tremaining: 1d 7h 32m 1s\n",
            "9:\ttest: 0.9129804\tbest: 0.9129804 (9)\ttotal: 3m 48s\tremaining: 1d 7h 36m 39s\n",
            "10:\ttest: 0.9137110\tbest: 0.9137110 (10)\ttotal: 4m 10s\tremaining: 1d 7h 34m 48s\n",
            "11:\ttest: 0.9140861\tbest: 0.9140861 (11)\ttotal: 4m 32s\tremaining: 1d 7h 26m 57s\n",
            "12:\ttest: 0.9146020\tbest: 0.9146020 (12)\ttotal: 4m 55s\tremaining: 1d 7h 28m 30s\n",
            "13:\ttest: 0.9149618\tbest: 0.9149618 (13)\ttotal: 5m 17s\tremaining: 1d 7h 25m 37s\n",
            "14:\ttest: 0.9152857\tbest: 0.9152857 (14)\ttotal: 5m 41s\tremaining: 1d 7h 29m 16s\n",
            "15:\ttest: 0.9167570\tbest: 0.9167570 (15)\ttotal: 6m 4s\tremaining: 1d 7h 30m 11s\n",
            "16:\ttest: 0.9173910\tbest: 0.9173910 (16)\ttotal: 6m 26s\tremaining: 1d 7h 26m 42s\n",
            "17:\ttest: 0.9182918\tbest: 0.9182918 (17)\ttotal: 6m 48s\tremaining: 1d 7h 25m 24s\n",
            "18:\ttest: 0.9188101\tbest: 0.9188101 (18)\ttotal: 7m 12s\tremaining: 1d 7h 31m 42s\n",
            "19:\ttest: 0.9192614\tbest: 0.9192614 (19)\ttotal: 7m 36s\tremaining: 1d 7h 35m 19s\n",
            "20:\ttest: 0.9194195\tbest: 0.9194195 (20)\ttotal: 8m\tremaining: 1d 7h 38m 34s\n",
            "21:\ttest: 0.9198737\tbest: 0.9198737 (21)\ttotal: 8m 24s\tremaining: 1d 7h 42m\n",
            "22:\ttest: 0.9202640\tbest: 0.9202640 (22)\ttotal: 8m 45s\tremaining: 1d 7h 36m 56s\n",
            "23:\ttest: 0.9205184\tbest: 0.9205184 (23)\ttotal: 9m 10s\tremaining: 1d 7h 42m 59s\n",
            "24:\ttest: 0.9206245\tbest: 0.9206245 (24)\ttotal: 9m 34s\tremaining: 1d 7h 44m 58s\n",
            "25:\ttest: 0.9207442\tbest: 0.9207442 (25)\ttotal: 9m 58s\tremaining: 1d 7h 46m 55s\n",
            "26:\ttest: 0.9206711\tbest: 0.9207442 (25)\ttotal: 10m 20s\tremaining: 1d 7h 44m 10s\n"
          ],
          "name": "stdout"
        }
      ]
    },
    {
      "cell_type": "markdown",
      "metadata": {
        "id": "RF8AKNQx2BKV",
        "colab_type": "text"
      },
      "source": [
        "##########################################################################################"
      ]
    },
    {
      "cell_type": "markdown",
      "metadata": {
        "id": "PTEXGyeKhDTJ",
        "colab_type": "text"
      },
      "source": [
        "app:(161417, 2)\n",
        "> deviceid 设备ID\n",
        "\n",
        "> applist 设备中APP列表\n",
        "\n",
        "train:(11376681, 15)\n",
        "\n",
        "> id 记录ID\n",
        "\n",
        "> target 记录Label\n",
        "\n",
        "> timestamp 时间戳，代表改用户点击该视频的时间戳，如果未点击则为NULL\n",
        "\n",
        "> deviceid 设备id\n",
        "\n",
        "> newsid 视频的id\n",
        "\n",
        "> guid 用户的注册id\n",
        "\n",
        "> pos 视频推荐位置\n",
        "\n",
        "> app_version APP版本\n",
        "\n",
        "> device_vendor 设备供应商\n",
        "\n",
        "> netmodel 网络模式\n",
        "\n",
        "> osversion 操作系统\n",
        "\n",
        "> lng 经度\n",
        "\n",
        "> lat 维度\n",
        "\n",
        "> device_version 设备版本\n",
        "\n",
        "> ts 视频暴光给用户的时间戳\n",
        "\n",
        "test:(3653592, 13)\n",
        "\n",
        "> id\n",
        "\n",
        "> deviceid\n",
        "\n",
        "> newsid\n",
        "\n",
        "> guid\n",
        "\n",
        "> pos\n",
        "\n",
        "> app_version\n",
        "\n",
        "> device_vendor\n",
        "\n",
        "> netmodel\n",
        "\n",
        "> osversion\n",
        "\n",
        "> lng\n",
        "\n",
        "> lat\n",
        "\n",
        "> device_version\n",
        "\n",
        "> ts\n",
        "\n",
        "user:(128573, 9)\n",
        "\n",
        "> deviceid 设备id\n",
        "\n",
        "> guid 全局位移标识符\n",
        "\n",
        "> outertag 对输出话题的兴趣值\n",
        "\n",
        "> tag 对话题的兴趣值\n",
        "\n",
        "> level 用户等级\n",
        "\n",
        "> personidentification 是否有识别信息的用户\n",
        "\n",
        "> followscore 关注分数\n",
        "\n",
        "> personalscore 对用户的评分，还有负分\n",
        "\n",
        "> gender 性别"
      ]
    }
  ]
}